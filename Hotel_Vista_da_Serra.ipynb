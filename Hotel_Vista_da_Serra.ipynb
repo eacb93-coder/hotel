{
  "nbformat": 4,
  "nbformat_minor": 0,
  "metadata": {
    "colab": {
      "provenance": [],
      "authorship_tag": "ABX9TyNVklAgImJpyR+vGyiz677E",
      "include_colab_link": true
    },
    "kernelspec": {
      "name": "python3",
      "display_name": "Python 3"
    },
    "language_info": {
      "name": "python"
    }
  },
  "cells": [
    {
      "cell_type": "markdown",
      "metadata": {
        "id": "view-in-github",
        "colab_type": "text"
      },
      "source": [
        "<a href=\"https://colab.research.google.com/github/eacb93-coder/hotel/blob/main/Hotel_Vista_da_Serra.ipynb\" target=\"_parent\"><img src=\"https://colab.research.google.com/assets/colab-badge.svg\" alt=\"Open In Colab\"/></a>"
      ]
    },
    {
      "cell_type": "markdown",
      "source": [
        "# Projeto: Sistema Interativo de Check-out de Hotel\n",
        "\n",
        "Este projeto é um script em Python que automatiza e simula o processo de faturamento no check-out de um hotel. O programa interage com o usuário para coletar todas as informações relevantes da estadia e aplica um conjunto de regras de negócio para gerar uma fatura final precisa.\n",
        "\n",
        "**Principais Funcionalidades:**\n",
        "- **Coleta de Dados:** Solicita o nome do hóspede, número de diárias, e a quantidade de adultos e crianças.\n",
        "- **Cálculo Dinâmico:** O valor da diária é ajustado com base no número de hóspedes, aplicando taxas para adultos e crianças extras (sendo a primeira criança cortesia).\n",
        "- **Descontos Progressivos:** Aplica descontos automaticamente para estadias de 5 dias ou mais, com um percentual maior para estadias de 10 dias ou mais.\n",
        "- **Fatura Final:** Exibe um resumo claro e formatado com subtotal, valor do desconto e o total a pagar.\n",
        "- **Divisão da Conta:** Oferece ao usuário a opção de dividir o valor final entre um número específico de pessoas."
      ],
      "metadata": {
        "id": "7Hr9VfzhXe6v"
      }
    },
    {
      "cell_type": "code",
      "source": [
        "nome_do_hotel = \"Hotel Vista da Serra\"\n",
        "diaria = 250.0\n",
        "taxa_adulto_extra = 50.0\n",
        "taxa_crianca_extra = 25.0"
      ],
      "metadata": {
        "id": "Fcmtlqg1Y0n2"
      },
      "execution_count": null,
      "outputs": []
    },
    {
      "cell_type": "code",
      "source": [
        "nome_hospede = input(\"Digite o nome do hóspede: \").strip().upper()\n",
        "num_adultos = int(input(\"Quantidade de adultos: \"))\n",
        "num_criancas = int(input(\"Quantidade de crianças: \"))\n",
        "num_diarias = int(input(\"Quantidade de diárias: \"))\n",
        "#"
      ],
      "metadata": {
        "colab": {
          "base_uri": "https://localhost:8080/"
        },
        "id": "2Ku8_PIkh9BM",
        "outputId": "fb4bf3cf-9a6a-479c-a73f-15a6dc4ba838"
      },
      "execution_count": null,
      "outputs": [
        {
          "name": "stdout",
          "output_type": "stream",
          "text": [
            "Digite o nome do hóspede: eloir borges\n",
            "Quantidade de adultos: 3\n",
            "Quantidade de crianças: 2\n",
            "Quantidade de diárias: 5\n"
          ]
        }
      ]
    },
    {
      "cell_type": "code",
      "source": [
        "custo_adicional_por_noite = 0\n",
        "\n",
        "if num_adultos > 2:\n",
        "  adultos_extras = num_adultos -2\n",
        "  custo_adicional_por_noite += adultos_extras * taxa_adulto_extra\n",
        "\n",
        "if num_criancas > 1:\n",
        "  criancas_extras = num_criancas -1\n",
        "  custo_adicional_por_noite += criancas_extras * taxa_crianca_extra\n",
        "\n",
        "valor_final_diaria = diaria + custo_adicional_por_noite\n",
        "\n",
        "consumo_extra = float(input(\"Consumo adicional: R$\"))\n",
        "\n",
        "subtotal = valor_final_diaria * num_diarias + consumo_extra"
      ],
      "metadata": {
        "id": "qgT1qdXLm32o",
        "colab": {
          "base_uri": "https://localhost:8080/"
        },
        "outputId": "de1379d2-9afb-4339-eac3-241df9478576"
      },
      "execution_count": null,
      "outputs": [
        {
          "name": "stdout",
          "output_type": "stream",
          "text": [
            "Consumo adicional: R$1000\n"
          ]
        }
      ]
    },
    {
      "cell_type": "code",
      "source": [
        "valor_desconto = 0\n",
        "\n",
        "if num_diarias >= 10:\n",
        "  valor_desconto = subtotal * 0.15\n",
        "\n",
        "elif num_diarias >= 5:\n",
        "  valor_desconto = subtotal * 0.10\n"
      ],
      "metadata": {
        "id": "xMaV-kFgBT7E"
      },
      "execution_count": null,
      "outputs": []
    },
    {
      "cell_type": "code",
      "source": [
        "total_a_pagar = subtotal - valor_desconto"
      ],
      "metadata": {
        "id": "E1iIE2uQQpoI"
      },
      "execution_count": null,
      "outputs": []
    },
    {
      "cell_type": "code",
      "source": [
        "print (\" - FATURA HOTEL VISTA DA SERRA - \")\n",
        "print ()\n",
        "print (f\"Hóspede: {nome_hospede}\")\n",
        "print (f\"Diárias: {num_diarias}\")\n",
        "print (f\"Adultos: {num_adultos}\")\n",
        "print (f\"Crianças: {num_criancas}\")\n",
        "print (f\"Subtotal: R${subtotal:.2f}\")\n",
        "print (f\"Desconto: R${valor_desconto:.2f}\")\n",
        "print (f\"Total a pagar: R${total_a_pagar:.2f}\")\n"
      ],
      "metadata": {
        "colab": {
          "base_uri": "https://localhost:8080/"
        },
        "id": "Hc4KTJ6MRkq2",
        "outputId": "e12cdceb-3e63-4462-ac61-cc0e8d0d9af6"
      },
      "execution_count": null,
      "outputs": [
        {
          "output_type": "stream",
          "name": "stdout",
          "text": [
            " - FATURA HOTEL VISTA DA SERRA - \n",
            "\n",
            "Hóspede: ELOIR BORGES\n",
            "Diárias: 5\n",
            "Adultos: 3\n",
            "Crianças: 2\n",
            "Subtotal: R$2625.00\n",
            "Desconto: R$262.50\n",
            "Total a pagar: R$2362.50\n"
          ]
        }
      ]
    },
    {
      "cell_type": "code",
      "source": [
        "resposta_dividir = input (\"Deseja dividir a conta? (S/N): \").strip().lower()\n",
        "\n",
        "if resposta_dividir == \"s\":\n",
        "  num_pessoas = int(input(\"Quantidade de pessoas: \"))\n",
        "  if num_pessoas > 0:\n",
        "      valor_por_pessoa = total_a_pagar / num_pessoas\n",
        "      print (f\"Valor por pessoa: R${valor_por_pessoa:.2f}\")\n",
        "  else:\n",
        "      print(\"Número de pessoas inválido para divisão.\")"
      ],
      "metadata": {
        "colab": {
          "base_uri": "https://localhost:8080/"
        },
        "id": "KObn5BDjXOhy",
        "outputId": "9d14cf51-0f13-4846-f521-466a87bf306a"
      },
      "execution_count": null,
      "outputs": [
        {
          "output_type": "stream",
          "name": "stdout",
          "text": [
            "Deseja dividir a conta? (S/N): s\n",
            "Quantidade de pessoas: 2\n",
            "Valor por pessoa: R$1181.25\n"
          ]
        }
      ]
    }
  ]
}