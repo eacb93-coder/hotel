{
  "nbformat": 4,
  "nbformat_minor": 0,
  "metadata": {
    "colab": {
      "provenance": [],
      "authorship_tag": "ABX9TyO0N058QzHf+8hXKlxMcaiy",
      "include_colab_link": true
    },
    "kernelspec": {
      "name": "python3",
      "display_name": "Python 3"
    },
    "language_info": {
      "name": "python"
    }
  },
  "cells": [
    {
      "cell_type": "markdown",
      "metadata": {
        "id": "view-in-github",
        "colab_type": "text"
      },
      "source": [
        "<a href=\"https://colab.research.google.com/github/eacb93-coder/hotel/blob/main/Guest_Insight_Engine.ipynb\" target=\"_parent\"><img src=\"https://colab.research.google.com/assets/colab-badge.svg\" alt=\"Open In Colab\"/></a>"
      ]
    },
    {
      "cell_type": "code",
      "execution_count": 44,
      "metadata": {
        "colab": {
          "base_uri": "https://localhost:8080/"
        },
        "id": "fJlmHu1TQKO9",
        "outputId": "3a4b87da-c494-431f-8b39-a24da4bd4f36"
      },
      "outputs": [
        {
          "output_type": "stream",
          "name": "stdout",
          "text": [
            "Dados atualizados com sucesso! Pronto para começar a processá-los.\n"
          ]
        }
      ],
      "source": [
        "feedbacks_hotel = [\n",
        "    {\n",
        "        'nome': '   joão da SILVA ',\n",
        "        'feedback_text': '''\n",
        "          O café da manhã estava realmente excelente, com uma variedade impressionante de pães, frutas frescas e opções quentes.\n",
        "          O quarto era bastante espaçoso e a cama confortável, o que apreciamos. No entanto, o barulho vindo da avenida principal\n",
        "          foi um ponto negativo, incomodou um pouco nosso sono durante a noite.   gostaria de destacar que a equipe da\n",
        "          recepção foi MUITO atenciosa e prestativa em todos os momentos.\n",
        "        '''\n",
        "    },\n",
        "    {\n",
        "        'nome': 'maria   oliveira',\n",
        "        'feedback_text': '''\n",
        "          Infelizmente, nossa principal motivação para escolher este hotel foi a piscina, e ela estava em manutenção durante toda a nossa estadia de 3 dias, o que foi uma grande decepção.\n",
        "          Fora isso, a experiência geral foi boa. O serviço de quarto foi   rapido e EFICIENTE, e o restaurante do hotel serve pratos deliciosos.\n",
        "          A localização também é um ponto forte.\n",
        "        '''\n",
        "    },\n",
        "    {\n",
        "        'nome': '  PeDRO   almeida   ',\n",
        "        'feedback_text': '''\n",
        "          Nossa estadia foi simplesmente perfeita! Desde o check-in rápido e cordial, até os detalhes no quarto. A LIMPEZA estava IMPECÁVEL todos os dias,\n",
        "          a cama era extremamente confortável e a vista da nossa janela para a cidade era de tirar o fôlego. Usamos a academia e também estava bem equipada.\n",
        "          Com certeza voltarei mais vezes e já recomendei para vários amigos.\n",
        "        '''\n",
        "    },\n",
        "    {\n",
        "        'nome': 'ANA souza',\n",
        "        'feedback_text': '''\n",
        "          o ar condicionado do meu quarto, o 304, NAO ESTAVA FUNCIONANDO corretamente. Ele passava a noite inteira em um ciclo de ligar e desligar a cada 10 minutos,\n",
        "          fazendo um barulho alto que tornava impossível ter uma noite de sono tranquila.  Avisei a recepção na primeira manhã, mas infelizmente o problema\n",
        "          não foi resolvido até o final da minha estadia de duas noites, o que comprometeu bastante meu descanso.\n",
        "        '''\n",
        "    }\n",
        "]\n",
        "\n",
        "print(\"Dados atualizados com sucesso! Pronto para começar a processá-los.\")"
      ]
    },
    {
      "cell_type": "code",
      "source": [
        "for feedback in feedbacks_hotel:\n",
        "  print(feedback)"
      ],
      "metadata": {
        "colab": {
          "base_uri": "https://localhost:8080/"
        },
        "id": "gRwq3UbqTRZq",
        "outputId": "d6f0af47-7456-4aad-a1c6-6e65e64b5a84"
      },
      "execution_count": 45,
      "outputs": [
        {
          "output_type": "stream",
          "name": "stdout",
          "text": [
            "{'nome': '   joão da SILVA ', 'feedback_text': '\\n          O café da manhã estava realmente excelente, com uma variedade impressionante de pães, frutas frescas e opções quentes.\\n          O quarto era bastante espaçoso e a cama confortável, o que apreciamos. No entanto, o barulho vindo da avenida principal\\n          foi um ponto negativo, incomodou um pouco nosso sono durante a noite.   gostaria de destacar que a equipe da\\n          recepção foi MUITO atenciosa e prestativa em todos os momentos.\\n        '}\n",
            "{'nome': 'maria   oliveira', 'feedback_text': '\\n          Infelizmente, nossa principal motivação para escolher este hotel foi a piscina, e ela estava em manutenção durante toda a nossa estadia de 3 dias, o que foi uma grande decepção.\\n          Fora isso, a experiência geral foi boa. O serviço de quarto foi   rapido e EFICIENTE, e o restaurante do hotel serve pratos deliciosos.\\n          A localização também é um ponto forte.\\n        '}\n",
            "{'nome': '  PeDRO   almeida   ', 'feedback_text': '\\n          Nossa estadia foi simplesmente perfeita! Desde o check-in rápido e cordial, até os detalhes no quarto. A LIMPEZA estava IMPECÁVEL todos os dias,\\n          a cama era extremamente confortável e a vista da nossa janela para a cidade era de tirar o fôlego. Usamos a academia e também estava bem equipada.\\n          Com certeza voltarei mais vezes e já recomendei para vários amigos.\\n        '}\n",
            "{'nome': 'ANA souza', 'feedback_text': '\\n          o ar condicionado do meu quarto, o 304, NAO ESTAVA FUNCIONANDO corretamente. Ele passava a noite inteira em um ciclo de ligar e desligar a cada 10 minutos,\\n          fazendo um barulho alto que tornava impossível ter uma noite de sono tranquila.  Avisei a recepção na primeira manhã, mas infelizmente o problema\\n          não foi resolvido até o final da minha estadia de duas noites, o que comprometeu bastante meu descanso.\\n        '}\n"
          ]
        }
      ]
    },
    {
      "cell_type": "code",
      "source": [
        "def padronizar_nome(nome_sujo):\n",
        "    nome_formatado = ' '.join(nome_sujo.strip().split()).title()\n",
        "    return nome_formatado\n",
        "\n",
        "for feedback in feedbacks_hotel:\n",
        "    feedback['nome'] = padronizar_nome(feedback['nome'])\n",
        "\n",
        "print(feedbacks_hotel)"
      ],
      "metadata": {
        "id": "wxEcIr2_XPey",
        "colab": {
          "base_uri": "https://localhost:8080/"
        },
        "outputId": "1a73fa76-e937-4e83-abd0-6dc28ec07008"
      },
      "execution_count": 46,
      "outputs": [
        {
          "output_type": "stream",
          "name": "stdout",
          "text": [
            "[{'nome': 'João Da Silva', 'feedback_text': '\\n          O café da manhã estava realmente excelente, com uma variedade impressionante de pães, frutas frescas e opções quentes.\\n          O quarto era bastante espaçoso e a cama confortável, o que apreciamos. No entanto, o barulho vindo da avenida principal\\n          foi um ponto negativo, incomodou um pouco nosso sono durante a noite.   gostaria de destacar que a equipe da\\n          recepção foi MUITO atenciosa e prestativa em todos os momentos.\\n        '}, {'nome': 'Maria Oliveira', 'feedback_text': '\\n          Infelizmente, nossa principal motivação para escolher este hotel foi a piscina, e ela estava em manutenção durante toda a nossa estadia de 3 dias, o que foi uma grande decepção.\\n          Fora isso, a experiência geral foi boa. O serviço de quarto foi   rapido e EFICIENTE, e o restaurante do hotel serve pratos deliciosos.\\n          A localização também é um ponto forte.\\n        '}, {'nome': 'Pedro Almeida', 'feedback_text': '\\n          Nossa estadia foi simplesmente perfeita! Desde o check-in rápido e cordial, até os detalhes no quarto. A LIMPEZA estava IMPECÁVEL todos os dias,\\n          a cama era extremamente confortável e a vista da nossa janela para a cidade era de tirar o fôlego. Usamos a academia e também estava bem equipada.\\n          Com certeza voltarei mais vezes e já recomendei para vários amigos.\\n        '}, {'nome': 'Ana Souza', 'feedback_text': '\\n          o ar condicionado do meu quarto, o 304, NAO ESTAVA FUNCIONANDO corretamente. Ele passava a noite inteira em um ciclo de ligar e desligar a cada 10 minutos,\\n          fazendo um barulho alto que tornava impossível ter uma noite de sono tranquila.  Avisei a recepção na primeira manhã, mas infelizmente o problema\\n          não foi resolvido até o final da minha estadia de duas noites, o que comprometeu bastante meu descanso.\\n        '}]\n"
          ]
        }
      ]
    },
    {
      "cell_type": "code",
      "source": [
        "import google.generativeai as genai\n",
        "from google.colab import userdata\n",
        "\n",
        "minha_chave_api = userdata.get('alura')\n",
        "genai.configure(api_key=minha_chave_api)\n",
        "\n",
        "print(\"API configurada com sucesso!\")"
      ],
      "metadata": {
        "colab": {
          "base_uri": "https://localhost:8080/"
        },
        "id": "icjtfrr5DmTT",
        "outputId": "f0db8a15-64fb-48c7-9a1b-82219fc58a37"
      },
      "execution_count": 47,
      "outputs": [
        {
          "output_type": "stream",
          "name": "stdout",
          "text": [
            "API configurada com sucesso!\n"
          ]
        }
      ]
    },
    {
      "cell_type": "code",
      "source": [
        "def resumir_feedback(texto_longo):\n",
        "  model = genai.GenerativeModel('gemini-2.5-flash')\n",
        "  resposta = model.generate_content(f\"Por favor, resuma o seguinte feedback de hotel em uma única frase objetiva: '{texto_longo}'\")\n",
        "\n",
        "  return resposta.text\n",
        "\n",
        "for feedback in feedbacks_hotel:\n",
        "    feedback['nome'] = padronizar_nome(feedback['nome'])\n",
        "\n",
        "    feedback['resumo'] = resumir_feedback(feedback['feedback_text'])\n",
        "\n",
        "print(\"\\n--- Relatório Final de Feedbacks Processados ---\")\n",
        "for i, feedback in enumerate(feedbacks_hotel):\n",
        "    print(f\"\\nFeedback #{i+1}:\")\n",
        "    print(f\"  Nome do Hóspede: {feedback['nome']}\")\n",
        "    print(f\"  Resumo do Feedback: {feedback['resumo']}\")\n",
        "    print(\"-\" * 40)"
      ],
      "metadata": {
        "colab": {
          "base_uri": "https://localhost:8080/",
          "height": 419
        },
        "id": "8QimFbCc9KmK",
        "outputId": "ae97f1ba-f887-4c14-cd1a-f7f45f864409"
      },
      "execution_count": 48,
      "outputs": [
        {
          "output_type": "stream",
          "name": "stdout",
          "text": [
            "\n",
            "--- Relatório Final de Feedbacks Processados ---\n",
            "\n",
            "Feedback #1:\n",
            "  Nome do Hóspede: João Da Silva\n",
            "  Resumo do Feedback: O hotel recebeu elogios pelo excelente café da manhã, quarto espaçoso e confortável, e equipe de recepção atenciosa, mas teve o sono dos hóspedes afetado pelo barulho da avenida principal.\n",
            "----------------------------------------\n",
            "\n",
            "Feedback #2:\n",
            "  Nome do Hóspede: Maria Oliveira\n",
            "  Resumo do Feedback: Apesar de uma experiência geral positiva, com destaque para o serviço, restaurante e localização, a grande decepção foi a piscina estar em manutenção durante toda a estadia, sendo o principal motivo da escolha.\n",
            "----------------------------------------\n",
            "\n",
            "Feedback #3:\n",
            "  Nome do Hóspede: Pedro Almeida\n",
            "  Resumo do Feedback: A estadia foi altamente satisfatória, destacando-se a limpeza impecável, o conforto das instalações (cama, vista, academia) e o serviço cordial e eficiente.\n",
            "----------------------------------------\n",
            "\n",
            "Feedback #4:\n",
            "  Nome do Hóspede: Ana Souza\n",
            "  Resumo do Feedback: O ar condicionado do quarto 304 apresentou mau funcionamento com ciclos barulhentos que impediram o sono do hóspede e não foi resolvido durante a estadia, mesmo após aviso à recepção.\n",
            "----------------------------------------\n"
          ]
        }
      ]
    }
  ]
}